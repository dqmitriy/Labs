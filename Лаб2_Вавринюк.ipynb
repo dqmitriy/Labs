{
  "nbformat": 4,
  "nbformat_minor": 0,
  "metadata": {
    "colab": {
      "provenance": []
    },
    "kernelspec": {
      "name": "python3",
      "display_name": "Python 3"
    },
    "language_info": {
      "name": "python"
    }
  },
  "cells": [
    {
      "cell_type": "code",
      "execution_count": 103,
      "metadata": {
        "id": "AL1tu-YdFviy"
      },
      "outputs": [],
      "source": [
        "class Employee:\n",
        "    def __init__(self, name, l_name, salary, exp):\n",
        "        self.name = name\n",
        "        self.last_name = l_name\n",
        "        self.base_salary = salary\n",
        "        self.experience = exp\n",
        "\n",
        "\n",
        "class Developer(Employee):\n",
        "    def __init__(self, name, l_name, salary, exp):\n",
        "       super().__init__(name, l_name, salary, exp)\n",
        "       \n",
        "\n",
        "class Designer(Employee):\n",
        "    def __init__(self, name, l_name, salary, exp, er):\n",
        "       super().__init__(name, l_name, salary, exp)\n",
        "       self.er = er\n",
        "\n",
        "class Manager(Employee):\n",
        "    def __init__(self, name, l_name, salary, exp, team):\n",
        "       super().__init__(name, l_name, salary, exp)\n",
        "       self.team = team   \n",
        "\n",
        "\n",
        "class Department:\n",
        "    def __init__(self, managers):\n",
        "         self.managers = managers\n",
        "    \n",
        "    def giveSalary(self):\n",
        "        print('\\n'.join(self.countedSalary()))\n",
        "\n",
        "    def countedSalary(self):\n",
        "        ans = []\n",
        "        for m in self.managers:\n",
        "            salary = m.base_salary\n",
        "            if m.experience > 5:   salary = salary*1.2 + 500\n",
        "            elif m.experience > 2: salary += 200\n",
        "\n",
        "            if len(m.team)>10: salary += 300\n",
        "            elif len(m.team)>5: salary += 200\n",
        "            \n",
        "            if sum(isinstance(x, Developer) for x in m.team)>len(m.team)/2: salary *= 1.1\n",
        "            ans.append(f'\\n{m.name} {m.last_name} отримав(-ла) {salary} монет')\n",
        "\n",
        "            for e in m.team:\n",
        "                salary = e.base_salary\n",
        "\n",
        "                if e.experience > 5:\n",
        "                    salary = salary*1.2 + 500\n",
        "                elif e.experience > 2:\n",
        "                    salary += 200\n",
        "                \n",
        "                if isinstance(e, Designer):\n",
        "                    salary *= e.er\n",
        "\n",
        "                ans.append(f'   {e.name} {e.last_name} отримав(-ла) {salary} монет')\n",
        "\n",
        "        return ans"
      ]
    },
    {
      "cell_type": "code",
      "source": [
        "department = Department(\n",
        "    [\n",
        "        Manager('Леся', 'Шевченко', 3500, 6,\n",
        "                [\n",
        "                    Designer('Максим',  'Григоренко', 3600, 2,   1.5),\n",
        "                    Designer('Софія',  'Ковальчук',      3100, 2.5, 0.8),\n",
        "                    Designer('Артем',   'Мельник',     4500, 2.5, 1.5),\n",
        "                    Designer('Олександра',    'Лисенко',   3800, 1, 2.3),\n",
        "                    Developer('Денис', 'Харченко',   4200, 3)\n",
        "                ]),\n",
        "        Manager('Анастасія', 'Войтенко', 3300, 8,\n",
        "                [\n",
        "                    Designer('Віталій', 'Гордієнко',    4600,   3,   2.8),\n",
        "                    Designer('Юлія',    'Білоус', 3300,   1.2, 3.6),\n",
        "                    Developer('Олександр',    'Кравець',  2700,   2.3),\n",
        "                    Developer('Тетяна',  'Яремчук',    4900,   1),\n",
        "                    Developer('Ігор',  'Білий',    3000, 30),\n",
        "                ]),\n",
        "        Manager('Юрій', 'Лисиченко', 3200, 2,\n",
        "                [\n",
        "                    Designer('Наталія',     'Коваленко',    5500, 2,   1.5),\n",
        "                    Designer('Олексій',    'Левченко', 4200, 3.5, 1.9),\n",
        "                    Designer('Аліна',    'Клименко',    4500, 1,   1.9),\n",
        "                    Designer('Михайло',    'Кравченко',    2300, 3,   1.4),\n",
        "                    Designer('Катерина',    'Гончаренко',  3500, 2.5, 1.3),\n",
        "                    Designer('Владислав',    'Бондаренко',    2700, 2, 0.7),\n",
        "                    Developer('Оксана',    'Шевченко',    2500, 2),\n",
        "                    Developer('Марина',    'Соколова',     300, 3.5),\n",
        "                    Developer('Олег','Кузьменко',   4800, 4.5),\n",
        "                    Developer('Ірина',    'Денисенко',   4800, 2),\n",
        "                    Developer('Сергій',  'Ковальов',    2900, 2)\n",
        "                ])\n",
        "        \n",
        "    ])"
      ],
      "metadata": {
        "id": "LKQvN4XrIFAf"
      },
      "execution_count": 110,
      "outputs": []
    },
    {
      "cell_type": "code",
      "source": [
        "department.giveSalary()"
      ],
      "metadata": {
        "colab": {
          "base_uri": "https://localhost:8080/"
        },
        "id": "HeusF9k0IJhX",
        "outputId": "384669ac-41d2-441e-cf1f-5d596cc5693a"
      },
      "execution_count": 111,
      "outputs": [
        {
          "output_type": "stream",
          "name": "stdout",
          "text": [
            "\n",
            "Ігнат Прищ отримав(-ла) 5900.0 монет\n",
            "   Кирило Крінженко отримав(-ла) 3500 монет\n",
            "   Галина Краш отримав(-ла) 210.0 монет\n",
            "   Остап Вишня отримав(-ла) 3150.0 монет\n",
            "   Іван Березюк отримав(-ла) 1440.0 монет\n",
            "   Сергій Обрубок отримав(-ла) 6260.0 монет\n",
            "\n",
            "Василина Голубець отримав(-ла) 6226.000000000001 монет\n",
            "   Мирослав Грач отримав(-ла) 4480.0 монет\n",
            "   Тарас Квасоля отримав(-ла) 690.0 монет\n",
            "   Єгор Шнурко отримав(-ла) 4000 монет\n",
            "   Наташа Борщ отримав(-ла) 4100 монет\n",
            "   Дмитро Гуро отримав(-ла) 1200498.8 монет\n",
            "\n",
            "Любослав Слободяник отримав(-ла) 5100 монет\n",
            "   Анна Галушка отримав(-ла) 2800.0 монет\n",
            "   Тарас Онопрієнко отримав(-ла) 2240.0 монет\n",
            "   Тарас Бартків отримав(-ла) 4680.0 монет\n",
            "   Тарас Музичко отримав(-ла) 3464.0 монет\n",
            "   Тарас Олексенко отримав(-ла) 690.0 монет\n",
            "   Тарас Березюк отримав(-ла) 1440.0 монет\n",
            "   Єгор Живосил отримав(-ла) 3800 монет\n",
            "   Єгор Чеслав отримав(-ла) 4100 монет\n",
            "   Вікторія Данканич отримав(-ла) 4400 монет\n",
            "   Єгор Данканич отримав(-ла) 3800 монет\n",
            "   Наташа Леськів отримав(-ла) 4100 монет\n"
          ]
        }
      ]
    }
  ]
}