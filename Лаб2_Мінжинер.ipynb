{
  "nbformat": 4,
  "nbformat_minor": 0,
  "metadata": {
    "colab": {
      "provenance": []
    },
    "kernelspec": {
      "name": "python3",
      "display_name": "Python 3"
    },
    "language_info": {
      "name": "python"
    }
  },
  "cells": [
    {
      "cell_type": "code",
      "execution_count": 3,
      "metadata": {
        "id": "AL1tu-YdFviy"
      },
      "outputs": [],
      "source": [
        "class Employee:\n",
        "    def __init__(self, name, l_name, salary, exp):\n",
        "        self.name = name\n",
        "        self.last_name = l_name\n",
        "        self.base_salary = salary\n",
        "        self.experience = exp\n",
        "\n",
        "\n",
        "class Developer(Employee):\n",
        "    def __init__(self, name, l_name, salary, exp):\n",
        "       super().__init__(name, l_name, salary, exp)\n",
        "       \n",
        "\n",
        "class Designer(Employee):\n",
        "    def __init__(self, name, l_name, salary, exp, er):\n",
        "       super().__init__(name, l_name, salary, exp)\n",
        "       self.er = er\n",
        "\n",
        "class Manager(Employee):\n",
        "    def __init__(self, name, l_name, salary, exp, team):\n",
        "       super().__init__(name, l_name, salary, exp)\n",
        "       self.team = team   \n",
        "\n",
        "\n",
        "class Department:\n",
        "    def __init__(self, managers):\n",
        "         self.managers = managers\n",
        "    \n",
        "    def giveSalary(self):\n",
        "        print('\\n'.join(self.countedSalary()))\n",
        "\n",
        "    def countedSalary(self):\n",
        "        ans = []\n",
        "        for m in self.managers:\n",
        "            salary = m.base_salary\n",
        "            if m.experience > 5:   salary = salary*1.2 + 500\n",
        "            elif m.experience > 2: salary += 200\n",
        "\n",
        "            if len(m.team)>10: salary += 300\n",
        "            elif len(m.team)>5: salary += 200\n",
        "            \n",
        "            if sum(isinstance(x, Developer) for x in m.team)>len(m.team)/2: salary *= 1.1\n",
        "            ans.append(f'\\n{m.name} {m.last_name} отримав(-ла) {salary} гривень')\n",
        "\n",
        "            for e in m.team:\n",
        "                salary = e.base_salary\n",
        "\n",
        "                if e.experience > 5:\n",
        "                    salary = salary*1.2 + 500\n",
        "                elif e.experience > 2:\n",
        "                    salary += 200\n",
        "                \n",
        "                if isinstance(e, Designer):\n",
        "                    salary *= e.er\n",
        "\n",
        "                ans.append(f'   {e.name} {e.last_name} отримав(-ла) {salary} гривень')\n",
        "\n",
        "        return ans"
      ]
    },
    {
      "cell_type": "code",
      "source": [
        "department = Department(\n",
        "    [\n",
        "        Manager('Анна', 'Шевченко', 3500, 6,\n",
        "                [\n",
        "                    Designer('Роман',  'Іванов', 3300, 4,   1),\n",
        "                    Designer('Ольга',  'Грищенко',      2500, 2, 0.5),\n",
        "                    Designer('Дмитро',   'Гончарук',     2300, 3, 0.3),\n",
        "                    Designer('Марія',    'Литвиненко',   3800, 2.5, 1.7),\n",
        "                    Developer('Андрій', 'Гордійчук',   2800, 6)\n",
        "                ]),\n",
        "        Manager('Ірина', 'Ковалева', 3300, 8,\n",
        "                [\n",
        "                    Designer('Віталій', 'Тарасенко',    5500,   1.5,   1.8),\n",
        "                    Designer('Катерина',    'Білецька', 2500,   2, 2.3),\n",
        "                    Developer('Євгеній',    'Жуков',  2800,   2),\n",
        "                    Developer('Любов',  'Лисенко',    4900,   5),\n",
        "                    Developer('Михайло',  'Гриненко',    15, 45),\n",
        "                ]),\n",
        "        Manager('Софія', 'Журавлик', 3600, 5,\n",
        "                [\n",
        "                    Designer('Віталій',     'Матвієнко',    3500, 2,   1.5),\n",
        "                    Designer('Юлія',    'Морозова', 2200, 2.5, 1.7),\n",
        "                    Designer('Артем',    'Бондаренко',    4200, 2.5,   1.9),\n",
        "                    Designer('Владислав',    'Іванов',    4800, 4,   2.5),\n",
        "                    Designer('Євгенія',    'Коваленко',  4500, 3.5, 1.3),\n",
        "                    Designer('Максим',    'Гриценко',    2800, 2.5, 2.6),\n",
        "                    Developer('Наталія',    'Мельник',    3400, 2),\n",
        "                    Developer('андрій',    'Левченко',     3500, 3.5),\n",
        "                    Developer('Юлія','Харченко',   4200, 3),\n",
        "                    Developer('Олександра',    'Денисенко',   3800, 1.5),\n",
        "                    Developer('Вікторія',  'Гордієнко',    3900, 2.5)\n",
        "                ])\n",
        "        \n",
        "    ])"
      ],
      "metadata": {
        "id": "LKQvN4XrIFAf"
      },
      "execution_count": 4,
      "outputs": []
    },
    {
      "cell_type": "code",
      "source": [
        "department.giveSalary()"
      ],
      "metadata": {
        "colab": {
          "base_uri": "https://localhost:8080/"
        },
        "id": "HeusF9k0IJhX",
        "outputId": "ef537c24-8b99-4e3e-c307-481256f843aa"
      },
      "execution_count": 5,
      "outputs": [
        {
          "output_type": "stream",
          "name": "stdout",
          "text": [
            "\n",
            "Анна Шевченко отримав(-ла) 4700.0 гривень\n",
            "   Роман Іванов отримав(-ла) 3500 гривень\n",
            "   Ольга Грищенко отримав(-ла) 1250.0 гривень\n",
            "   Дмитро Гончарук отримав(-ла) 750.0 гривень\n",
            "   Марія Литвиненко отримав(-ла) 6800.0 гривень\n",
            "   Андрій Гордійчук отримав(-ла) 3860.0 гривень\n",
            "\n",
            "Ірина Ковалева отримав(-ла) 4906.0 гривень\n",
            "   Віталій Тарасенко отримав(-ла) 9900.0 гривень\n",
            "   Катерина Білецька отримав(-ла) 5750.0 гривень\n",
            "   Євгеній Жуков отримав(-ла) 2800 гривень\n",
            "   Любов Лисенко отримав(-ла) 5100 гривень\n",
            "   Михайло Гриненко отримав(-ла) 518.0 гривень\n",
            "\n",
            "Софія Журавлик отримав(-ла) 4100 гривень\n",
            "   Віталій Матвієнко отримав(-ла) 5250.0 гривень\n",
            "   Юлія Морозова отримав(-ла) 4080.0 гривень\n",
            "   Артем Бондаренко отримав(-ла) 8360.0 гривень\n",
            "   Владислав Іванов отримав(-ла) 12500.0 гривень\n",
            "   Євгенія Коваленко отримав(-ла) 6110.0 гривень\n",
            "   Максим Гриценко отримав(-ла) 7800.0 гривень\n",
            "   Наталія Мельник отримав(-ла) 3400 гривень\n",
            "   андрій Левченко отримав(-ла) 3700 гривень\n",
            "   Юлія Харченко отримав(-ла) 4400 гривень\n",
            "   Олександра Денисенко отримав(-ла) 3800 гривень\n",
            "   Вікторія Гордієнко отримав(-ла) 4100 гривень\n"
          ]
        }
      ]
    }
  ]
}