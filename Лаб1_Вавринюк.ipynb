{
  "nbformat": 4,
  "nbformat_minor": 0,
  "metadata": {
    "colab": {
      "provenance": []
    },
    "kernelspec": {
      "name": "python3",
      "display_name": "Python 3"
    },
    "language_info": {
      "name": "python"
    }
  },
  "cells": [
    {
      "cell_type": "markdown",
      "source": [
        "1. Написати функцію з одним аргументом, яка перевіряє чи є аргумент числом. Якщо так, то повертає чи є це цисло парним чи не парним. Якщо аргумент не число - повертає пусту строку."
      ],
      "metadata": {
        "id": "hSIL0aC1-wo4"
      }
    },
    {
      "cell_type": "code",
      "execution_count": 7,
      "metadata": {
        "colab": {
          "base_uri": "https://localhost:8080/",
          "height": 36
        },
        "id": "XYSHc2rG-rlV",
        "outputId": "774e0706-ebb7-4ff5-93e3-7a611f05bdfd"
      },
      "outputs": [
        {
          "output_type": "execute_result",
          "data": {
            "text/plain": [
              "''"
            ],
            "application/vnd.google.colaboratory.intrinsic+json": {
              "type": "string"
            }
          },
          "metadata": {},
          "execution_count": 7
        }
      ],
      "source": [
        "def isnumber(n):\n",
        "    if isinstance(n, (int, float, complex)):\n",
        "        return 'Непарне' if n%2==1 else 'Парне'\n",
        "    else:\n",
        "        return ''\n",
        "isnumber('8')"
      ]
    },
    {
      "cell_type": "markdown",
      "source": [
        "<br>2. Написати функцію, яка починає перебирати числа від 1 до нескінченності і перевіряє чи є число простим (просте число - те яке ділиться лише на 1 чи само на себе). Якщо просте число знайдене - воно додається до списку. Після пʼятого знайденого простого числа функція повинна повернути суму всіх пʼяти простих чисел у списку.\n"
      ],
      "metadata": {
        "id": "Mu9vPZaT_wIk"
      }
    },
    {
      "cell_type": "code",
      "source": [
        "def get_sum_five_prime():\n",
        "    def isprime(n): \n",
        "        if n<=1: \n",
        "            return False \n",
        "        for i in range(2,n): \n",
        "            if n%i==0: \n",
        "                return False \n",
        "        return True\n",
        "    n = 1\n",
        "    primes = []\n",
        "    while len(primes)<5:\n",
        "        n += 1\n",
        "        if isprime(n):\n",
        "            primes.append(n)\n",
        "    \n",
        "    return sum(primes)\n",
        "\n",
        "get_sum_five_prime()"
      ],
      "metadata": {
        "colab": {
          "base_uri": "https://localhost:8080/"
        },
        "id": "JIS7ufn0_rJD",
        "outputId": "5e31e98e-d4f6-400d-e9bd-6c9091136cff"
      },
      "execution_count": 27,
      "outputs": [
        {
          "output_type": "execute_result",
          "data": {
            "text/plain": [
              "28"
            ]
          },
          "metadata": {},
          "execution_count": 27
        }
      ]
    },
    {
      "cell_type": "markdown",
      "source": [
        "<br>3. Написати функцію з одним аргументом n, що є числом. Функція повинна повернути суму наступного ряду з n чисел 1 + 11 + 111 + 1111 + ...., де кожний елемент - число з постійно зростаючою кількістю одиниць.\n",
        "Наприклад:\n",
        "Ви передаєте в функцію фргумент 5.\n",
        "Функція рахує сумму для ряду виду: 1 + 11 + 111 + 1111 + 11111.\n",
        "В даному прикладі вона повинна повернути число 12345"
      ],
      "metadata": {
        "id": "tP6BMrQb_xwZ"
      }
    },
    {
      "cell_type": "code",
      "source": [
        "def func(n):\n",
        "    num = 0\n",
        "    for i in range(n):\n",
        "        num += int('1'*(i+1))\n",
        "    return num\n",
        "\n",
        "func(5)"
      ],
      "metadata": {
        "colab": {
          "base_uri": "https://localhost:8080/"
        },
        "id": "lcDLIzJ5_yOD",
        "outputId": "41ff2c85-4d1f-4d2a-9534-0534b0a63228"
      },
      "execution_count": 35,
      "outputs": [
        {
          "output_type": "execute_result",
          "data": {
            "text/plain": [
              "12345"
            ]
          },
          "metadata": {},
          "execution_count": 35
        }
      ]
    }
  ]
}